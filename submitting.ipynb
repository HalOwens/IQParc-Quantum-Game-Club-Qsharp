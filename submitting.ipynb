{
 "cells": [
  {
   "cell_type": "code",
   "execution_count": 4,
   "metadata": {},
   "outputs": [
    {
     "data": {
      "application/x-qsharp-data": "[\"bell\"]",
      "text/html": [
       "<ul><li>bell</li></ul>"
      ],
      "text/plain": [
       "bell"
      ]
     },
     "execution_count": 4,
     "metadata": {},
     "output_type": "execute_result"
    }
   ],
   "source": [
    "open Microsoft.Quantum.Arrays;\n",
    "open Microsoft.Quantum.Measurement;\n",
    "\n",
    "operation bell(N : Int) : Result[] {\n",
    "    use qs = Qubit[N];\n",
    "    H(qs[0]);\n",
    "    for q in qs[1...] {\n",
    "        CNOT(qs[0], q);\n",
    "    }\n",
    "    return ForEach(MResetZ, qs);\n",
    "}"
   ]
  },
  {
   "cell_type": "markdown",
   "metadata": {},
   "source": [
    "## Put your resource ID here. You can find it in the Azure workspace overview"
   ]
  },
  {
   "cell_type": "code",
   "execution_count": 5,
   "metadata": {},
   "outputs": [],
   "source": [
    "%azure.connect \"YOUR RESOURCE ID\" location=\"westus2\""
   ]
  },
  {
   "cell_type": "code",
   "execution_count": null,
   "metadata": {},
   "outputs": [],
   "source": [
    "%azure.target ionq.qpu"
   ]
  },
  {
   "cell_type": "code",
   "execution_count": null,
   "metadata": {},
   "outputs": [],
   "source": [
    "%simulate bell N=5"
   ]
  }
 ],
 "metadata": {
  "interpreter": {
   "hash": "e488ed18503351de98d4824813ec835d3284a1666e87d0aef198ffb6cd4573c4"
  },
  "kernelspec": {
   "display_name": "Q#",
   "language": "qsharp",
   "name": "iqsharp"
  },
  "language_info": {
   "file_extension": ".qs",
   "mimetype": "text/x-qsharp",
   "name": "qsharp",
   "version": "0.14"
  },
  "orig_nbformat": 4
 },
 "nbformat": 4,
 "nbformat_minor": 2
}
