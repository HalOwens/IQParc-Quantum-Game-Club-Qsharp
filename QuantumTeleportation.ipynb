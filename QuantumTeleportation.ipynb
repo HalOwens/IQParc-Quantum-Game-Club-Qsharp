{
 "cells": [
  {
   "cell_type": "code",
   "execution_count": null,
   "metadata": {},
   "outputs": [],
   "source": [
    "operation UnknownState(q : Qubit) : Unit is Adj {\n",
    "    H(q);\n",
    "}\n",
    "\n",
    "operation Teleport() : Result {\n",
    "    use q1 = Qubit();\n",
    "    use q2 = Qubit();\n",
    "\n",
    "    H(q1);\n",
    "    CNOT(q1, q2);\n",
    "\n",
    "    /// Sender\n",
    "    use psiQ = Qubit();\n",
    "    UnknownState(psiQ);\n",
    "\n",
    "    // Perform Sender measurement\n",
    "    CNOT(psiQ, q1);\n",
    "    H(psiQ);\n",
    "\n",
    "    let m1 = M(psiQ);\n",
    "    let m2 = M(q1);\n",
    "\n",
    "    ////\n",
    "\n",
    "    ////\n",
    "\n",
    "    // Receiver side\n",
    "    if(m1 == One) {\n",
    "        Z(q2);\n",
    "    }\n",
    "    if(m2 == One) {\n",
    "        X(q2);\n",
    "    }\n",
    "\n",
    "    Adjoint UnknownState(q2); // Apply the inverse of UnknownState. If teleportation worked this measn q2 is now |0>\n",
    "    Return M(q2);\n",
    "\n",
    "}"
   ]
  }
 ],
 "metadata": {
  "kernelspec": {
   "display_name": "Q#",
   "language": "qsharp",
   "name": "iqsharp"
  },
  "language_info": {
   "name": "qsharp"
  },
  "orig_nbformat": 4
 },
 "nbformat": 4,
 "nbformat_minor": 2
}
