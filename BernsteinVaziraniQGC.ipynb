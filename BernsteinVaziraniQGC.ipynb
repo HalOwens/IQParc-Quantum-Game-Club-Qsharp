{
 "cells": [
  {
   "cell_type": "code",
   "execution_count": 1,
   "metadata": {},
   "outputs": [
    {
     "data": {
      "application/x-qsharp-data": "[]",
      "text/html": [
       "<ul></ul>"
      ],
      "text/plain": []
     },
     "execution_count": 1,
     "metadata": {},
     "output_type": "execute_result"
    }
   ],
   "source": [
    "open Microsoft.Quantum.Diagnostics;\n",
    "open Microsoft.Quantum.Arrays;"
   ]
  },
  {
   "cell_type": "code",
   "execution_count": 7,
   "metadata": {},
   "outputs": [
    {
     "data": {
      "application/x-qsharp-data": "[\"HiddenBitStringOracle\",\"BernsteinVazirani\"]",
      "text/html": [
       "<ul><li>HiddenBitStringOracle</li><li>BernsteinVazirani</li></ul>"
      ],
      "text/plain": [
       "HiddenBitStringOracle, BernsteinVazirani"
      ]
     },
     "execution_count": 7,
     "metadata": {},
     "output_type": "execute_result"
    }
   ],
   "source": [
    "operation HiddenBitStringOracle(qs : Qubit[]) : Unit is Adj {\n",
    "    for i in 0 .. 2 .. Length(qs) - 1  {\n",
    "        Z(qs[i]);\n",
    "    }\n",
    "}\n",
    "\n",
    "\n",
    "operation BernsteinVazirani(N : Int) : Result[] {\n",
    "    use qs = Qubit[N]; // Allocates N qubits\n",
    "\n",
    "    // Within Apply does three things\n",
    "    // 1. Perform the statements in the within block\n",
    "    // 2. Perform the statements in the apply block\n",
    "    // 3. Apply the inverse of the code in the within block -- This is called uncomputing in quantum computing\n",
    "    within { \n",
    "        ApplyToEachA(H, qs); \n",
    "    } apply {\n",
    "        HiddenBitStringOracle(qs);\n",
    "    }\n",
    "\n",
    "    return ForEach(M, qs);\n",
    "}"
   ]
  },
  {
   "cell_type": "code",
   "execution_count": 8,
   "metadata": {},
   "outputs": [
    {
     "data": {
      "application/x-qsharp-data": "[1,0,1]",
      "text/html": [
       "<ul><li>One</li><li>Zero</li><li>One</li></ul>"
      ],
      "text/plain": [
       "One, Zero, One"
      ]
     },
     "execution_count": 8,
     "metadata": {},
     "output_type": "execute_result"
    }
   ],
   "source": [
    "%simulate BernsteinVazirani N=3"
   ]
  },
  {
   "cell_type": "code",
   "execution_count": 9,
   "metadata": {},
   "outputs": [],
   "source": [
    "%azure.connect \"\" location=\"West US 2\""
   ]
  },
  {
   "cell_type": "code",
   "execution_count": null,
   "metadata": {},
   "outputs": [],
   "source": [
    "%azure.target ionq.qpu"
   ]
  },
  {
   "cell_type": "code",
   "execution_count": null,
   "metadata": {},
   "outputs": [],
   "source": [
    "%azure.submit BernsteinVazirani N=4"
   ]
  }
 ],
 "metadata": {
  "kernelspec": {
   "display_name": "Q#",
   "language": "qsharp",
   "name": "iqsharp"
  },
  "language_info": {
   "file_extension": ".qs",
   "mimetype": "text/x-qsharp",
   "name": "qsharp",
   "version": "0.14"
  },
  "orig_nbformat": 4
 },
 "nbformat": 4,
 "nbformat_minor": 2
}
