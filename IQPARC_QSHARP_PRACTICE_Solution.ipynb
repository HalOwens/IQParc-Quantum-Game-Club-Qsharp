{
 "cells": [
  {
   "cell_type": "markdown",
   "metadata": {},
   "source": [
    "# IQPARC Quantum Game Club Q# Practice Set\n"
   ]
  },
  {
   "cell_type": "code",
   "execution_count": 1,
   "metadata": {},
   "outputs": [
    {
     "data": {
      "application/x-qsharp-data": "[]",
      "text/html": [
       "<ul></ul>"
      ],
      "text/plain": []
     },
     "execution_count": 1,
     "metadata": {},
     "output_type": "execute_result"
    }
   ],
   "source": [
    "//Run to import a bunch of utlity functions\n",
    "open Microsoft.Quantum.Arrays;\n",
    "open Microsoft.Quantum.Diagnostics;\n",
    "open Microsoft.Quantum.Canon;\n",
    "open Microsoft.Quantum.Measurement;\n",
    "open Microsoft.Quantum.Logical; "
   ]
  },
  {
   "cell_type": "markdown",
   "metadata": {},
   "source": [
    "# Task 1. Transform: $|0\\rangle$ to $|1\\rangle$ \n",
    "> <font size = 3> Implement operation Transform_1 <br />\n",
    "Type: (Qubit[]) => Unit <br />\n",
    "Description: Transforms a qubit array uniformly in the 0 state to qubits in the 1 state <br />\n"
   ]
  },
  {
   "cell_type": "code",
   "execution_count": 1,
   "metadata": {},
   "outputs": [
    {
     "name": "stderr",
     "output_type": "stream",
     "text": [
      "/snippet_.qs(22,10): error QS5022: No identifier with the name \"q\" exists.\n",
      "/snippet_.qs(22,16): error QS5022: No identifier with the name \"q\" exists.\n",
      "/snippet_.qs(23,12): error QS6301: The type 'h of the given expression is not compatible with the expected return type Result.\n"
     ]
    }
   ],
   "source": [
    "open Microsoft.Quantum.Arrays;\n",
    "open Microsoft.Quantum.Diagnostics;\n",
    "open Microsoft.Quantum.Canon;\n",
    "open Microsoft.Quantum.Measurement;\n",
    "\n",
    "operation Transform_1(qs : Qubit[]) : Unit {\n",
    "    for q in qs {\n",
    "        X(q);\n",
    "    }\n",
    "}\n",
    "\n",
    "operation Execute_Task_1() : Unit {\n",
    "    use qs = Qubit[3];\n",
    "    Transform_1(qs);\n",
    "    AssertMeasurement([PauliZ, PauliZ, PauliZ], qs, One, \"Error: Expected Qubits in the 1 state\");\n",
    "    ResetAll(qs);\n",
    "}\n"
   ]
  },
  {
   "cell_type": "code",
   "execution_count": 6,
   "metadata": {},
   "outputs": [
    {
     "data": {
      "application/x-qsharp-data": "{\"@type\":\"tuple\"}",
      "text/plain": [
       "()"
      ]
     },
     "execution_count": 6,
     "metadata": {},
     "output_type": "execute_result"
    }
   ],
   "source": [
    "%simulate Execute_Task_1"
   ]
  },
  {
   "cell_type": "markdown",
   "metadata": {},
   "source": [
    "# Task 2. Transform: $|0\\rangle$ to $|-\\rangle$ \n",
    "> <font size = 3> Implement operation Transform_2 <br />\n",
    "Type: (Qubit[]) => Unit <br />\n",
    "Description: Transforms a qubit array uniformly in the 0 state to qubits in the - state <br />\n"
   ]
  },
  {
   "cell_type": "code",
   "execution_count": null,
   "metadata": {},
   "outputs": [],
   "source": [
    "open Microsoft.Quantum.Arrays;\n",
    "open Microsoft.Quantum.Diagnostics;\n",
    "open Microsoft.Quantum.Canon;\n",
    "open Microsoft.Quantum.Measurement;\n",
    "\n",
    "operation Transform_2(qs : Qubit[]) : Unit {\n",
    "    ApplyToEach(X, qs);\n",
    "    ApplyToEach(H, qs);\n",
    "}\n",
    "\n",
    "operation Execute_2() : Unit {\n",
    "    use qs = Qubit[3];\n",
    "    Transform(qs);\n",
    "    AssertMeasurement([PauliX, PauliX, PauliX], qs, One, \"Error: Expected Qubits in the - state\");\n",
    "\n",
    "    ResetAll(qs);\n",
    "}"
   ]
  },
  {
   "cell_type": "markdown",
   "metadata": {},
   "source": [
    "# Task 3. Write operation to generate N entangled Qubits\n",
    "> <font size = 3> Implement the operation EPR_N <br />\n",
    "Type: (Qubit[]) => Result[] <br />\n",
    "Description: Creates the n qubit bell state on the passed Qubits, then returns the measurements on those qubits </font>"
   ]
  },
  {
   "cell_type": "code",
   "execution_count": null,
   "metadata": {},
   "outputs": [],
   "source": [
    "\n",
    "operation EPR_N(qs : Qubit[]) : Result[] {\n",
    "    H(qs[0]); // 0 -> +;\n",
    "    for i in 1 .. Length(qs) - 1 {\n",
    "        CNOT(qs[0], qs[i]);\n",
    "    }\n",
    "\n",
    "    mutable results = new Result[Length(qs)];\n",
    "    for i in 0 .. Length(qs) - 1 {\n",
    "        set results w/= i <- M(qs[i]);\n",
    "        Reset(qs[i]);\n",
    "    }\n",
    "    //return ForEach(MResetZ, qs);\n",
    "    return results;\n",
    "}\n",
    "\n",
    "operation Execute_3(N: Int) : Result[] {\n",
    "    use qs = Qubit[N];\n",
    "    let res = EPR_N(qs);\n",
    "    let ctr = new Result[N];\n",
    "    mutable one = ctr;\n",
    "    for i in 0 .. Length(ctr)-1 {\n",
    "        set one w/= i <- One;\n",
    "    }\n",
    "    if(EqualA(EqualR, res, ctr) or EqualA(EqualR, res, one)) {\n",
    "        Message($\"Measurement on each qubit yielded identical results\");\n",
    "    } else {\n",
    "        Message($\"Measurement did not yield identical results\");\n",
    "    }\n",
    "    return res;\n",
    "}"
   ]
  },
  {
   "cell_type": "markdown",
   "metadata": {},
   "source": [
    "# Task 4. Write an operation to generate one of the four bell states based off an integer passed to the operation\n",
    "> <font size = 4> Part A </font> <br />\n",
    "<font size = 3> Implement operation Bell <br />\n",
    "Type: (Qubit[], Int) => Unit <br />\n",
    "Description: Based off the Int passed to Bell put the two Qubits into one of the four Bell states <br />\n",
    "0 : $|\\Phi^+\\rangle = |00\\rangle + |11\\rangle$ <br />\n",
    "1 : $|\\Phi^-\\rangle = |00\\rangle - |11\\rangle$ <br />\n",
    "2 : $|\\Psi^+\\rangle = |01\\rangle + |10\\rangle$ <br />\n",
    "3 : $|\\Psi^-\\rangle = |01\\rangle - |10\\rangle$ <br />\n",
    "\n",
    "</font>\n",
    "\n",
    "> <font size = 4> Part B </font> <br />\n",
    "<font size = 3> Implement operation Execute_4 <br />\n",
    "Type: (Int) => Unit <br />\n",
    "Description: Write the entry operation which calls Bell, use Microsoft.Quantum.Diagnositics.DumpMachine to verify the proper bell states are created. <br />\n",
    "</font>"
   ]
  },
  {
   "cell_type": "code",
   "execution_count": null,
   "metadata": {},
   "outputs": [],
   "source": [
    "open Microsoft.Quantum.Arrays;\n",
    "open Microsoft.Quantum.Diagnostics;\n",
    "open Microsoft.Quantum.Canon;\n",
    "open Microsoft.Quantum.Measurement;\n",
    "\n",
    "operation Bell(qs: Qubit[], state: Int) : Unit { \n",
    "    H(qs[0]);\n",
    "    CNOT(qs[0], qs[1]);\n",
    "    if(state == 1) {\n",
    "        Z(qs[0]);\n",
    "    } elif (state == 2) {\n",
    "        X(qs[0]);\n",
    "    } elif (state == 3) {\n",
    "        X(qs[0]);\n",
    "        Z(qs[1]);\n",
    "    }\n",
    "}\n",
    "\n",
    "operation Execute_4(state : Int) : Unit {\n",
    "    use qs = Qubit[2];\n",
    "    Bell(qs, state);\n",
    "    DumpMachine();\n",
    "    ResetAll(qs);\n",
    "}"
   ]
  },
  {
   "cell_type": "markdown",
   "metadata": {},
   "source": [
    "# Task 5. Implement an arbitrary marking oracle and an arbitraty marking to phase converter\n",
    "\n",
    "> <font size = 4> Part A </font> <br />\n",
    "<font size = 3> Implement operation Oracle_5 <br />\n",
    "Type: (Bool[], Qubit[], Qubit) => Unit <br />\n",
    "Description: Swap the state of the marker qubit if the Qubit array matches the boolean array <br />\n",
    "\n",
    "</font>\n",
    "\n",
    "> <font size = 4> Part B </font> <br />\n",
    "<font size = 3> Implement operation Phase_Converter_5 <br />\n",
    "Type: (Bool[], Qubit[], (Bool[], Qubit[], Qubit) => Unit) : Unit <br />\n",
    "Description: Takes the passed marking oracle function and calls it in a way such that it acts as a phase oracle on the Qubit[] array. <br />\n",
    "Hint: 2 Single Qubit gates are needed to make this work.\n",
    "\n",
    "</font>"
   ]
  },
  {
   "cell_type": "code",
   "execution_count": null,
   "metadata": {},
   "outputs": [],
   "source": [
    "operation Oracle_5(bitString: Bool[], qs : Qubit[], mark : Qubit) : Unit{ \n",
    "    for logic in 0 .. Length(bitString) - 1 {\n",
    "        if(bitString[logic] == false) {\n",
    "            X(qs[logic]);\n",
    "        }\n",
    "    }\n",
    "    Controlled X(qs, mark);\n",
    "    for logic in 0 .. Length(bitString) - 1 {\n",
    "        if(bitString[logic] == false) {\n",
    "            X(qs[logic]);\n",
    "        }\n",
    "    }\n",
    "}\n",
    "\n",
    "//Operation Phase_Converter()\n",
    "operation Phase_Converter_5(bitString : Bool[], qs: Qubit[], marking_oracle : (Bool[], Qubit[], Qubit) => Unit) : Unit {\n",
    "    use mark = Qubit();\n",
    "    X(mark);\n",
    "    H(mark);\n",
    "    marking_oracle(bitString, qs, mark);\n",
    "    Reset(mark);\n",
    "}\n",
    "\n",
    "operation Execute_5() : Unit {\n",
    "    use qs = Qubit[3];\n",
    "    ApplyToEach(H, qs);\n",
    "    Phase_Converter([true, false, false], qs, Oracle_6);\n",
    "    DumpMachine();\n",
    "    ResetAll(qs);\n",
    "}"
   ]
  },
  {
   "cell_type": "markdown",
   "metadata": {},
   "source": [
    "# Task 6. Write operation to create a phase oracle which swaps the phase of the state described in a bitString\n",
    "> <font size = 3> Implement operation Oracle_6 <br />\n",
    "Type: (Bool[], Qubit[]) => Unit <br />\n",
    "Description: Swap the phase of the state which matches the Bool[] array <br />\n",
    "Hint: A Controlled Z Gate swaps the phase of the $|11..1\\rangle$ state\n",
    "\n"
   ]
  },
  {
   "cell_type": "code",
   "execution_count": null,
   "metadata": {},
   "outputs": [],
   "source": [
    "operation Oracle_6(bitString: Bool[], qs : Qubit[]) : Unit{ \n",
    "    for logic in 0 .. Length(bitString) - 1 {\n",
    "        if(bitString[logic] == false) {\n",
    "            X(qs[logic]);\n",
    "        }\n",
    "    }\n",
    "    Controlled Z(Most(qs), Tail(qs));\n",
    "    for logic in 0 .. Length(bitString) - 1 {\n",
    "        if(bitString[logic] == false) {\n",
    "            X(qs[logic]);\n",
    "        }\n",
    "    }\n",
    "}\n",
    "\n",
    "operation Execute_6(cnt : Int) : Result[] {\n",
    "    use qs = Qubit[cnt];\n",
    "    ApplyToEach(H, qs);\n",
    "    let zero = new Bool[cnt];\n",
    "    Oracle_6(zero, qs);\n",
    "    DumpMachine();\n",
    "    return ForEach(MResetZ, qs);\n",
    "}"
   ]
  },
  {
   "cell_type": "code",
   "execution_count": null,
   "metadata": {},
   "outputs": [],
   "source": [
    "%simulate Execute_6 cnt=5"
   ]
  },
  {
   "cell_type": "markdown",
   "metadata": {},
   "source": [
    "# Task 7. Implementing Grovers algorithm on $N = 2^5 = 32$ search space with 3 success values\n",
    "\n",
    "> <font size = 4> Part A </font> <br />\n",
    "<font size = 3> Implement operation Oracle<br />\n",
    "Type: (Qubit[]) => Unit <br />\n",
    "Description: Implement a phase oracle which swaps the phase on the states <br />\n",
    "$|00010\\rangle = |2\\rangle$\n",
    "$|11010\\rangle = |26\\rangle$ \n",
    "$|10100\\rangle = |5\\rangle$ \n",
    "\n",
    "</font>\n",
    "\n",
    "> <font size = 4> Part B </font> <br />\n",
    "<font size = 3> Implement operation Diffusion <br />\n",
    "Type: (Qubit[]) : Unit <br />\n",
    "Description: Applies Grover's Diffusion operator to the Qubits <br />\n",
    "\n",
    "</font>\n",
    "\n",
    "> <font size = 4> Part C </font> <br />\n",
    "<font size = 3> Implement operation Diffusion <br />\n",
    "Type: (Int) : Result[] <br />\n",
    "Description: Prepare Qubits and run Grover's algorithm the number of times specified by the Int<br />\n",
    "\n",
    "</font>\n",
    "\n",
    "> <font size = 4> Part D </font> <br />\n",
    "<font size = 3> When you believe that you have this working contact me for instructions on how to run this on a real quantum computer using microsoft azure. \n",
    "</font>"
   ]
  },
  {
   "cell_type": "code",
   "execution_count": null,
   "metadata": {},
   "outputs": [],
   "source": [
    "operation Oracle(qs : Qubit[]) : Unit {\n",
    "    let p1 = ControlledOnBitString([false, true, false, false, false], Z);\n",
    "    let p2 = ControlledOnBitString([false, true, false, true, true], Z);\n",
    "    let p3 = ControlledOnBitString([false, false, true, false, true], Z);\n",
    "    use ancilla = Qubit();\n",
    "    X(ancilla);\n",
    "    p1(qs, ancilla);\n",
    "    p2(qs, ancilla);\n",
    "    p3(qs, ancilla);\n",
    "    X(ancilla);\n",
    "    Reset(ancilla);\n",
    "}\n",
    "\n",
    "operation Diffusion(qs: Qubit[]) : Unit {\n",
    "    within {\n",
    "        ApplyToEachA(H, qs);\n",
    "        ApplyToEachA(X, qs);\n",
    "    } apply {\n",
    "        Controlled Z (Most(qs), Tail(qs));\n",
    "    }\n",
    "}\n",
    "\n",
    "operation RunGroverSearch(iterations : Int) : Result[]{\n",
    "    use qs = Qubit[5];\n",
    "    ApplyToEach(H, qs);\n",
    "    for _ in 1 .. iterations {\n",
    "        DumpMachine();\n",
    "        Oracle(qs);\n",
    "        Diffusion(qs);\n",
    "    }\n",
    "    DumpMachine();\n",
    "    return ForEach(MResetZ, qs);\n",
    "}"
   ]
  },
  {
   "cell_type": "markdown",
   "metadata": {},
   "source": [
    "# Task 8. Implement a quantum key exchange system between sender and receiver\n",
    "> <font size = 4> Part A </font> <br />\n",
    "<font size = 3> Implement operation Key_Exchange<br />\n",
    "Type: (Int) => Result[] <br />\n",
    "Description: Think of this operation as the communication mediator for our Sender and Receiver. It will be in charge of preparing qubits, passing them between the Sender and Receiver, and keeping track of the measurement basis + sent state which are returned from the Receiver and Sender operations. It then uses that information to decode the securely exchanged key. \n",
    "\n",
    "</font>\n",
    "\n",
    "> <font size = 4> Part B </font> <br />\n",
    "<font size = 3> Implement operation Receiver <br />\n",
    "Type: (Qubit) => (Result, Result) <br />\n",
    "Description: Given two qubits chooses randomly between 2 states and basis' in order to prepare for QKE. Must keep track of state and basis <br />\n",
    "\n",
    "</font>\n",
    "\n",
    "> <font size = 4> Part C </font> <br />\n",
    "<font size = 3> Implement operation Sender <br />\n",
    "Type: (Qubit) : (Result, Result) <br />\n",
    "Description: Takes to qubits and performs a measurement in 2 basis randomly and returns the basis and result<br />\n",
    "</font>"
   ]
  },
  {
   "cell_type": "code",
   "execution_count": null,
   "metadata": {},
   "outputs": [],
   "source": [
    "operation Key_Exchange(n_bits : Int) : Result[] {\n",
    "    mutable sent = new Result[n_bits];\n",
    "    mutable received = new Result[n_bits];\n",
    "    mutable basis_s = new Result[n_bits]; //0 = Z axis measurement, 1 = X axis measurement\n",
    "    mutable basis_r = new Result[n_bits];\n",
    "    for i in 0 .. n_bits - 1 {\n",
    "        use q = Qubit() {\n",
    "            let (basis_value_s, sent_value) = Sender(q);\n",
    "            set basis_s w/= i <- basis_value_s;\n",
    "            set sent w/= i <- sent_value;\n",
    "            let (basis_value_r, received_value) = Receiver(q);\n",
    "            set basis_r w/= i <- basis_value_r;\n",
    "            set received w/= i <- received_value;\n",
    "            Reset(q);\n",
    "        }\n",
    "    }\n",
    "    mutable key = new Result[1];\n",
    "    for i in 0 .. n_bits -1 {\n",
    "        if(basis_s[i] == basis_r[i]) {\n",
    "            if(sent[i] == received[i]) {\n",
    "                set key = key + [sent[i]];\n",
    "            }\n",
    "        }\n",
    "    }\n",
    "    Message($\"Sent: {sent}, basis_s: {basis_s}\");\n",
    "    Message($\"Received: {received}, basis_r: {basis_r}\");\n",
    "    return key;\n",
    "}\n",
    "\n",
    "operation Receiver(q : Qubit) : (Result, Result) {\n",
    "    use rand = Qubit() {\n",
    "        H(rand);\n",
    "        let basis = M(rand);\n",
    "        if(basis == One) {\n",
    "            H(q);\n",
    "\n",
    "        }\n",
    "        let received = M(q);\n",
    "        Reset(rand);\n",
    "        return (basis, received);\n",
    "    }\n",
    "}\n",
    "operation Sender(q : Qubit) : (Result, Result) {\n",
    "    use rand = Qubit() {\n",
    "        //Randomly select Basis and Bit state\n",
    "        H(rand);\n",
    "        let basis = M(rand);\n",
    "        H(rand);\n",
    "        let sent = M(rand);\n",
    "\n",
    "        if(basis == One) {\n",
    "            H(q);\n",
    "            if(sent == One) {\n",
    "                Z(q);\n",
    "            }\n",
    "        } else {\n",
    "            if(sent == One) {\n",
    "                X(q);\n",
    "            }\n",
    "        }\n",
    "        Reset(rand);\n",
    "        return (basis, sent);\n",
    "    }\n",
    "}"
   ]
  },
  {
   "cell_type": "markdown",
   "metadata": {},
   "source": [
    "# Other potential project ideas\n",
    "<font size=3>\n",
    "\n",
    "* Implement the quantum fourier transform on a qubit array=\n",
    "* Use the QFT to implement shors algorithm\n",
    "* Implement the Quantum Teleportation protocol\n",
    " <font>"
   ]
  },
  {
   "cell_type": "code",
   "execution_count": null,
   "metadata": {},
   "outputs": [],
   "source": []
  }
 ],
 "metadata": {
  "interpreter": {
   "hash": "e488ed18503351de98d4824813ec835d3284a1666e87d0aef198ffb6cd4573c4"
  },
  "kernelspec": {
   "display_name": "Q#",
   "language": "qsharp",
   "name": "iqsharp"
  },
  "language_info": {
   "file_extension": ".qs",
   "mimetype": "text/x-qsharp",
   "name": "qsharp",
   "version": "0.14"
  }
 },
 "nbformat": 4,
 "nbformat_minor": 2
}
