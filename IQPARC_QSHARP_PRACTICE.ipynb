{
 "cells": [
  {
   "cell_type": "markdown",
   "metadata": {},
   "source": [
    "# IQPARC Quantum Game Club Q# Practice Set\n"
   ]
  },
  {
   "cell_type": "code",
   "execution_count": null,
   "metadata": {},
   "outputs": [],
   "source": [
    "//Run to import a bunch of utlity functions\n",
    "open Microsoft.Quantum.Arrays;\n",
    "open Microsoft.Quantum.Diagnostics;\n",
    "open Microsoft.Quantum.Canon;\n",
    "open Microsoft.Quantum.Measurement;\n",
    "open Microsoft.Quantum.Logical; "
   ]
  },
  {
   "cell_type": "markdown",
   "metadata": {},
   "source": [
    "# Task 1. Transform: $|0\\rangle$ to $|1\\rangle$ \n",
    "> <font size = 3> Implement operation Transform_1 <br />\n",
    "Type: (Qubit[]) => Unit <br />\n",
    "Description: Transforms a qubit array uniformly in the 0 state to qubits in the 1 state <br />\n"
   ]
  },
  {
   "cell_type": "code",
   "execution_count": null,
   "metadata": {},
   "outputs": [],
   "source": [
    "open Microsoft.Quantum.Arrays;\n",
    "open Microsoft.Quantum.Diagnostics;\n",
    "open Microsoft.Quantum.Canon;\n",
    "open Microsoft.Quantum.Measurement;\n",
    "\n",
    "operation Transform_1(qs : Qubit[]) : Unit {\n",
    "\n",
    "}\n",
    "\n",
    "operation Execute_Task_1() : Unit {\n",
    "    use qs = Qubit[3];\n",
    "    Transform(qs);\n",
    "    AssertMeasurement([PauliZ, PauliZ, PauliZ], qs, One, \"Error: Expected Qubits in the 1 state\");\n",
    "    ResetAll(qs);\n",
    "}"
   ]
  },
  {
   "cell_type": "code",
   "execution_count": null,
   "metadata": {},
   "outputs": [],
   "source": [
    "# This is how we can simulate a quantum circuit"
   ]
  },
  {
   "cell_type": "code",
   "execution_count": null,
   "metadata": {},
   "outputs": [],
   "source": [
    "%simulate Execute_Task_1"
   ]
  },
  {
   "cell_type": "markdown",
   "metadata": {},
   "source": [
    "# Task 2. Transform: $|0\\rangle$ to $|-\\rangle$ \n",
    "> <font size = 3> Implement operation Transform_2 <br />\n",
    "Type: (Qubit[]) => Unit <br />\n",
    "Description: Transforms a qubit array uniformly in the 0 state to qubits in the - state <br />\n"
   ]
  },
  {
   "cell_type": "code",
   "execution_count": null,
   "metadata": {},
   "outputs": [],
   "source": [
    "open Microsoft.Quantum.Arrays;\n",
    "open Microsoft.Quantum.Diagnostics;\n",
    "open Microsoft.Quantum.Canon;\n",
    "open Microsoft.Quantum.Measurement;\n",
    "\n",
    "operation Transform_2(qs : Qubit[]) : Unit {\n",
    "\n",
    "}\n",
    "\n",
    "operation Execute_2() : Unit {\n",
    "    use qs = Qubit[3];\n",
    "    Transform(qs);\n",
    "    AssertMeasurement([PauliX, PauliX, PauliX], qs, One, \"Error: Expected Qubits in the - state\");\n",
    "    ResetAll(qs);\n",
    "}"
   ]
  },
  {
   "cell_type": "markdown",
   "metadata": {},
   "source": [
    "# Task 3. Write operation to generate N entangled Qubits\n",
    "> <font size = 3> Implement the operation EPR_N <br />\n",
    "Type: (Qubit[]) => Result[] <br />\n",
    "Description: Creates the n qubit bell state on the passed Qubits, then returns the measurements on those qubits </font>"
   ]
  },
  {
   "cell_type": "code",
   "execution_count": null,
   "metadata": {},
   "outputs": [],
   "source": [
    "\n",
    "operation EPR_N(qs : Qubit[]) : Result[] {\n",
    "\n",
    "}\n",
    "\n",
    "operation Execute_3(N: Int) : Result[] {\n",
    "    use qs = Qubit[N];\n",
    "    let res = EPR_N(qs);\n",
    "    let ctr = new Result[N];\n",
    "    mutable one = ctr;\n",
    "    for i in 0 .. Length(ctr)-1 {\n",
    "        set one w/= i <- One;\n",
    "    }\n",
    "    if(EqualA(EqualR, res, ctr) or EqualA(EqualR, res, one)) {\n",
    "        Message($\"Measurement on each qubit yielded identical results\");\n",
    "    } else {\n",
    "        Message($\"Measurement did not yield identical results\");\n",
    "    }\n",
    "    return res;\n",
    "}"
   ]
  },
  {
   "cell_type": "code",
   "execution_count": null,
   "metadata": {},
   "outputs": [],
   "source": [
    "# Here we can simulate and set the value of the parameter"
   ]
  },
  {
   "cell_type": "code",
   "execution_count": null,
   "metadata": {},
   "outputs": [],
   "source": [
    "%simulate Execute_3 N=3"
   ]
  },
  {
   "cell_type": "markdown",
   "metadata": {},
   "source": [
    "# Task 4. Write an operation to generate one of the four bell states based off an integer passed to the operation\n",
    "> <font size = 4> Part A </font> <br />\n",
    "<font size = 3> Implement operation Bell <br />\n",
    "Type: (Qubit[], Int) => Unit <br />\n",
    "Description: Based off the Int passed to Bell put the two Qubits into one of the four Bell states <br />\n",
    "0 : $|\\Phi^+\\rangle = |00\\rangle + |11\\rangle$ <br />\n",
    "1 : $|\\Phi^-\\rangle = |00\\rangle - |11\\rangle$ <br />\n",
    "2 : $|\\Psi^+\\rangle = |01\\rangle + |10\\rangle$ <br />\n",
    "3 : $|\\Psi^-\\rangle = |01\\rangle - |10\\rangle$ <br />\n",
    "\n",
    "</font>\n",
    "\n",
    "> <font size = 4> Part B </font> <br />\n",
    "<font size = 3> Implement operation Execute_4 <br />\n",
    "Type: (Int) => Unit <br />\n",
    "Description: Write the entry operation which calls Bell, use Microsoft.Quantum.Diagnositics.DumpMachine to verify the proper bell states are created. <br />\n",
    "</font>"
   ]
  },
  {
   "cell_type": "code",
   "execution_count": null,
   "metadata": {},
   "outputs": [],
   "source": []
  },
  {
   "cell_type": "markdown",
   "metadata": {},
   "source": [
    "# Task 5. Implement an arbitrary marking oracle and an arbitraty marking to phase converter\n",
    "\n",
    "> <font size = 4> Part A </font> <br />\n",
    "<font size = 3> Implement operation Oracle_5 <br />\n",
    "Type: (Bool[], Qubit[], Qubit) => Unit <br />\n",
    "Description: Swap the state of the marker qubit if the Qubit array matches the boolean array <br />\n",
    "\n",
    "</font>\n",
    "\n",
    "> <font size = 4> Part B </font> <br />\n",
    "<font size = 3> Implement operation Phase_Converter_5 <br />\n",
    "Type: (Bool[], Qubit[], (Bool[], Qubit[], Qubit) => Unit) : Unit <br />\n",
    "Description: Takes the passed marking oracle function and calls it in a way such that it acts as a phase oracle on the Qubit[] array. <br />\n",
    "Hint: 2 Single Qubit gates are needed to make this work.\n",
    "\n",
    "</font>"
   ]
  },
  {
   "cell_type": "code",
   "execution_count": null,
   "metadata": {},
   "outputs": [],
   "source": [
    "\n",
    "\n",
    "operation Execute_5() : Unit {\n",
    "    use qs = Qubit[3];\n",
    "    ApplyToEach(H, qs);\n",
    "    Phase_Converter([true, false, false], qs, Oracle_6);\n",
    "    DumpMachine();\n",
    "    ResetAll(qs);\n",
    "}"
   ]
  },
  {
   "cell_type": "markdown",
   "metadata": {},
   "source": [
    "# Task 6. Write operation to create a phase oracle which swaps the phase of the state described in a bitString\n",
    "> <font size = 3> Implement operation Oracle_6 <br />\n",
    "Type: (Bool[], Qubit[]) => Unit <br />\n",
    "Description: Swap the phase of the state which matches the Bool[] array <br />\n",
    "Hint: A Controlled Z Gate swaps the phase of the $|11..1\\rangle$ state\n",
    "\n"
   ]
  },
  {
   "cell_type": "code",
   "execution_count": null,
   "metadata": {},
   "outputs": [],
   "source": [
    "\n",
    "\n",
    "operation Execute_6(cnt : Int) : Result[] {\n",
    "    use qs = Qubit[cnt];\n",
    "    ApplyToEach(H, qs);\n",
    "    let zero = new Bool[cnt];\n",
    "    Oracle_6(zero, qs);\n",
    "    DumpMachine();\n",
    "    return ForEach(MResetZ, qs);\n",
    "}"
   ]
  },
  {
   "cell_type": "code",
   "execution_count": null,
   "metadata": {},
   "outputs": [],
   "source": [
    "%simulate Execute_6 cnt=5"
   ]
  },
  {
   "cell_type": "markdown",
   "metadata": {},
   "source": [
    "# Task 7. Implementing Grovers algorithm on $N = 2^5 = 32$ search space with 3 success values\n",
    "\n",
    "> <font size = 4> Part A </font> <br />\n",
    "<font size = 3> Implement operation Oracle<br />\n",
    "Type: (Qubit[]) => Unit <br />\n",
    "Description: Implement a phase oracle which swaps the phase on the states <br />\n",
    "$|00010\\rangle = |2\\rangle$\n",
    "$|11010\\rangle = |26\\rangle$ \n",
    "$|10100\\rangle = |5\\rangle$ \n",
    "\n",
    "</font>\n",
    "\n",
    "> <font size = 4> Part B </font> <br />\n",
    "<font size = 3> Implement operation Diffusion <br />\n",
    "Type: (Qubit[]) : Unit <br />\n",
    "Description: Applies Grover's Diffusion operator to the Qubits <br />\n",
    "\n",
    "</font>\n",
    "\n",
    "> <font size = 4> Part C </font> <br />\n",
    "<font size = 3> Implement operation RunGroverSearch <br />\n",
    "Type: (Int) : Result[] <br />\n",
    "Description: Prepare Qubits and run Grover's algorithm the number of times specified by the Int<br />\n",
    "\n",
    "</font>\n",
    "\n",
    "> <font size = 4> Part D </font> <br />\n",
    "<font size = 3> When you believe that you have this working contact me for instructions on how to run this on a real quantum computer using microsoft azure. \n",
    "</font>"
   ]
  },
  {
   "cell_type": "code",
   "execution_count": null,
   "metadata": {},
   "outputs": [],
   "source": []
  },
  {
   "cell_type": "markdown",
   "metadata": {},
   "source": [
    "# Task 8. Implement a quantum key exchange system between sender and receiver\n",
    "> <font size = 4> Part A </font> <br />\n",
    "<font size = 3> Implement operation Key_Exchange<br />\n",
    "Type: (Int) => Result[] <br />\n",
    "Description: Think of this operation as the communication mediator for our Sender and Receiver. It will be in charge of preparing qubits, passing them between the Sender and Receiver, and keeping track of the measurement basis + sent state which are returned from the Receiver and Sender operations. It then uses that information to decode the securely exchanged key. \n",
    "\n",
    "</font>\n",
    "\n",
    "> <font size = 4> Part B </font> <br />\n",
    "<font size = 3> Implement operation Receiver <br />\n",
    "Type: (Qubit) => (Result, Result) <br />\n",
    "Description: Given two qubits chooses randomly between 2 states and basis' in order to prepare for QKE. Must keep track of state and basis <br />\n",
    "\n",
    "</font>\n",
    "\n",
    "> <font size = 4> Part C </font> <br />\n",
    "<font size = 3> Implement operation Sender <br />\n",
    "Type: (Qubit) : (Result, Result) <br />\n",
    "Description: Takes to qubits and performs a measurement in 2 basis randomly and returns the basis and result<br />\n",
    "</font>"
   ]
  },
  {
   "cell_type": "code",
   "execution_count": null,
   "metadata": {},
   "outputs": [],
   "source": []
  },
  {
   "cell_type": "markdown",
   "metadata": {},
   "source": [
    "# Other potential project ideas\n",
    "<font size=3>\n",
    "\n",
    "* Implement the quantum fourier transform on a qubit array=\n",
    "* Use the QFT to implement shors algorithm\n",
    "* Implement the Quantum Teleportation protocol\n",
    " <font>"
   ]
  }
 ],
 "metadata": {
  "kernelspec": {
   "display_name": "Q#",
   "language": "qsharp",
   "name": "iqsharp"
  },
  "language_info": {
   "file_extension": ".qs",
   "mimetype": "text/x-qsharp",
   "name": "qsharp",
   "version": "0.14"
  }
 },
 "nbformat": 4,
 "nbformat_minor": 2
}
