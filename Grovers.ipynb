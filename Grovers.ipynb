{
 "cells": [
  {
   "cell_type": "code",
   "execution_count": 8,
   "source": [
    "open Microsoft.Quantum.Arrays;\n",
    "open Microsoft.Quantum.Measurement;\n",
    "//open Microsoft.Quantum.Diagnostics;\n",
    "open Microsoft.Quantum.Canon;\n",
    "\n",
    "operation oracle(qs : Qubit[], LengthT : Int) : Unit is Adj{\n",
    "    for q in qs {\n",
    "        X(q);\n",
    "    }\n",
    "    Controlled Z(Most(qs), Tail(qs));\n",
    "    for q in qs {\n",
    "        X(q);\n",
    "    }\n",
    "}"
   ],
   "outputs": [
    {
     "output_type": "execute_result",
     "data": {
      "text/html": [
       "<ul><li>oracle</li></ul>"
      ],
      "text/plain": [
       "oracle"
      ],
      "application/x-qsharp-data": "[\"oracle\"]"
     },
     "metadata": {},
     "execution_count": 8
    }
   ],
   "metadata": {}
  },
  {
   "cell_type": "code",
   "execution_count": 2,
   "source": [
    "open Microsoft.Quantum.Arrays;\n",
    "open Microsoft.Quantum.Measurement;\n",
    "//open Microsoft.Quantum.Diagnostics;\n",
    "open Microsoft.Quantum.Canon;\n",
    "\n",
    "operation ReflectAboutUniform(inputQubits : Qubit[]) : Unit {\n",
    "    within {\n",
    "        for q in inputQubits {\n",
    "            H(q);\n",
    "            X(q);\n",
    "            }\n",
    "    } apply {\n",
    "        Controlled Z (Most(inputQubits), Tail(inputQubits));\n",
    "    }\n",
    "}\n"
   ],
   "outputs": [
    {
     "output_type": "execute_result",
     "data": {
      "text/html": [
       "<ul><li>ReflectAboutUniform</li></ul>"
      ],
      "text/plain": [
       "ReflectAboutUniform"
      ],
      "application/x-qsharp-data": "[\"ReflectAboutUniform\"]"
     },
     "metadata": {},
     "execution_count": 2
    }
   ],
   "metadata": {}
  },
  {
   "cell_type": "code",
   "execution_count": 3,
   "source": [
    "open Microsoft.Quantum.Arrays;\n",
    "open Microsoft.Quantum.Measurement;\n",
    "open Microsoft.Quantum.Diagnostics;\n",
    "open Microsoft.Quantum.Canon;\n",
    "\n",
    "operation RunGroversSearch(register : Qubit[], phaseOracle : (Qubit[], Int) => Unit is Adj, iterations : Int, LengthT : Int) : Unit {\n",
    "\n",
    "ApplyToEach(H, register);\n",
    "for _ in 1 .. iterations {\n",
    "    phaseOracle(register, LengthT);\n",
    "    ReflectAboutUniform(register);\n",
    "    }\n",
    "    DumpMachine();\n",
    "}"
   ],
   "outputs": [
    {
     "output_type": "execute_result",
     "data": {
      "text/html": [
       "<ul><li>RunGroversSearch</li></ul>"
      ],
      "text/plain": [
       "RunGroversSearch"
      ],
      "application/x-qsharp-data": "[\"RunGroversSearch\"]"
     },
     "metadata": {},
     "execution_count": 3
    }
   ],
   "metadata": {}
  },
  {
   "cell_type": "code",
   "execution_count": 6,
   "source": [
    "open Microsoft.Quantum.Arrays;\n",
    "open Microsoft.Quantum.Measurement;\n",
    "//open Microsoft.Quantum.Diagnostics;\n",
    "open Microsoft.Quantum.Canon;\n",
    "\n",
    "\n",
    "operation RunGrover(LengthT : Int, numRuns : Int) : Result[] {\n",
    "    use qubs = Qubit[LengthT];\n",
    "    RunGroversSearch(qubs, oracle, numRuns, LengthT);\n",
    "    return ForEach(MResetZ, qubs);\n",
    "}\n",
    "\n",
    "\n",
    "\n"
   ],
   "outputs": [
    {
     "output_type": "execute_result",
     "data": {
      "text/html": [
       "<ul><li>RunGrover</li></ul>"
      ],
      "text/plain": [
       "RunGrover"
      ],
      "application/x-qsharp-data": "[\"RunGrover\"]"
     },
     "metadata": {},
     "execution_count": 6
    }
   ],
   "metadata": {
    "scrolled": true
   }
  },
  {
   "cell_type": "code",
   "execution_count": 11,
   "source": [
    "%simulate RunGrover LengthT=9 numRuns=3\n"
   ],
   "outputs": [
    {
     "output_type": "execute_result",
     "data": {
      "text/html": [
       "<ul><li>Zero</li><li>Zero</li><li>Zero</li><li>One</li><li>One</li><li>One</li><li>One</li><li>One</li><li>Zero</li></ul>"
      ],
      "text/plain": [
       "Zero, Zero, Zero, One, One, One, One, One, Zero"
      ],
      "application/x-qsharp-data": "[0,0,0,1,1,1,1,1,0]"
     },
     "metadata": {},
     "execution_count": 11
    }
   ],
   "metadata": {}
  },
  {
   "cell_type": "code",
   "execution_count": null,
   "source": [
    "%azure.connect \"/subscriptions/e5f60116-f538-4cf5-b949-27fa8d0239e6/resourceGroups/TestResourceGroup/providers/Microsoft.Quantum/Workspaces/QuantumWorkspaceIQPARC\" location=\"westus2\""
   ],
   "outputs": [],
   "metadata": {}
  },
  {
   "cell_type": "code",
   "execution_count": null,
   "source": [
    "%azure.target ionq.qpu"
   ],
   "outputs": [],
   "metadata": {}
  },
  {
   "cell_type": "code",
   "execution_count": null,
   "source": [
    "%azure.submit RunGrover"
   ],
   "outputs": [],
   "metadata": {}
  },
  {
   "cell_type": "code",
   "execution_count": null,
   "source": [
    "%azure.status"
   ],
   "outputs": [],
   "metadata": {}
  },
  {
   "cell_type": "code",
   "execution_count": null,
   "source": [
    "open Microsoft.Quantum.Arrays;\n",
    "open Microsoft.Quantum.Measurement;\n",
    "open Microsoft.Quantum.Diagnostics;\n",
    "\n",
    "operation initial() : Unit {\n",
    "    use qs = Qubit[2];\n",
    "    for q in qs {\n",
    "        H(q);\n",
    "    }\n",
    "    DumpMachine();\n",
    "    oracle(qs);\n",
    "    DumpMachine();\n",
    "    ResetAll(qs);\n",
    "}"
   ],
   "outputs": [],
   "metadata": {}
  },
  {
   "cell_type": "code",
   "execution_count": null,
   "source": [
    "open Microsoft.Quantum.Arrays;\n",
    "open Microsoft.Quantum.Diagnostics;\n",
    "operation test(): Unit {\n",
    "    use qs = Qubit[3];\n",
    "    for q in Most(qs) {\n",
    "        H(q);\n",
    "    }\n",
    "    DumpMachine();\n",
    "    ResetAll(qs);\n",
    "}"
   ],
   "outputs": [],
   "metadata": {}
  },
  {
   "cell_type": "code",
   "execution_count": null,
   "source": [
    "%config?"
   ],
   "outputs": [],
   "metadata": {
    "scrolled": false
   }
  },
  {
   "cell_type": "code",
   "execution_count": null,
   "source": [
    "%simulate test"
   ],
   "outputs": [],
   "metadata": {
    "scrolled": true
   }
  },
  {
   "cell_type": "code",
   "execution_count": null,
   "source": [
    "%simulate initital"
   ],
   "outputs": [],
   "metadata": {}
  },
  {
   "cell_type": "code",
   "execution_count": 19,
   "source": [
    "open Microsoft.Quantum.Arrays;\n",
    "open Microsoft.Quantum.Diagnostics;\n",
    "operation FFT(): Unit {\n",
    "    use qs = Qubit[3];\n",
    "    for q in qs {\n",
    "        H(q);\n",
    "    }\n",
    "    H(qs[0]);\n",
    "    Controlled S ([qs[1]], qs[0]);\n",
    "    Controlled T ([qs[2]], qs[0]);\n",
    "    H(qs[1]);\n",
    "    Controlled S ([qs[2]], qs[1]);\n",
    "    H(qs[2]);\n",
    "    SWAP(qs[0], qs[2]);\n",
    "    DumpMachine();\n",
    "    ResetAll(qs);\n",
    "}"
   ],
   "outputs": [
    {
     "output_type": "execute_result",
     "data": {
      "text/html": [
       "<ul><li>FFT</li></ul>"
      ],
      "text/plain": [
       "FFT"
      ],
      "application/x-qsharp-data": "[\"FFT\"]"
     },
     "metadata": {},
     "execution_count": 19
    }
   ],
   "metadata": {}
  },
  {
   "cell_type": "code",
   "execution_count": 20,
   "source": [
    "\n",
    "%simulate FFT"
   ],
   "outputs": [
    {
     "output_type": "display_data",
     "data": {
      "text/html": [
       "\r\n",
       "                    <table style=\"table-layout: fixed; width: 100%\">\r\n",
       "                        <thead>\r\n",
       "                            \r\n",
       "                        <tr>\r\n",
       "                            <th>Qubit IDs</th>\r\n",
       "                            <td span=\"3\">0, 1, 2</td>\r\n",
       "                        </tr>\r\n",
       "                    \r\n",
       "                            <tr>\r\n",
       "                                <th style=\"width: 20ch)\">Basis state (bitstring)</th>\r\n",
       "                                <th style=\"width: 20ch\">Amplitude</th><th style=\"width: calc(100% - 26ch - 20ch)\">Meas. Pr.</th><th style=\"width: 6ch\">Phase</th>\r\n",
       "                            </tr>\r\n",
       "                        </thead>\r\n",
       "                        <tbody>\r\n",
       "                        \r\n",
       "                            <tr>\r\n",
       "                                <td>$\\left|000\\right\\rangle$</td>\r\n",
       "                                <td>$1.0000 + 0.0000 i$</td>\r\n",
       "                                \r\n",
       "                                <td>\r\n",
       "                                    <progress\r\n",
       "                                        max=\"100\"\r\n",
       "                                        value=\"100.00000000000009\"\r\n",
       "                                        style=\"width: 100%;\"\r\n",
       "                                    > \r\n",
       "                                    <td>\r\n",
       "                                    <p id=\"round-da251dd1-d9dd-402a-a114-259246158843\"> \r\n",
       "                                    <script>\r\n",
       "                                    var num = 100.00000000000009;\r\n",
       "                                    num = num.toFixed(4);\r\n",
       "                                    var num_string = num + \"%\";\r\n",
       "                                     document.getElementById(\"round-da251dd1-d9dd-402a-a114-259246158843\").innerHTML = num_string;\r\n",
       "                                    </script> </p>\r\n",
       "                                    </td>\r\n",
       "                                </td>\r\n",
       "                            \r\n",
       "                                \r\n",
       "                                <td style=\"transform: rotate(0deg);\r\n",
       "                   text-align: center;\">\r\n",
       "                                 ↑\r\n",
       "                                </td>\r\n",
       "                            \r\n",
       "                            </tr>\r\n",
       "                        \n",
       "\r\n",
       "                            <tr>\r\n",
       "                                <td>$\\left|001\\right\\rangle$</td>\r\n",
       "                                <td>$0.0000 + 0.0000 i$</td>\r\n",
       "                                \r\n",
       "                                <td>\r\n",
       "                                    <progress\r\n",
       "                                        max=\"100\"\r\n",
       "                                        value=\"0\"\r\n",
       "                                        style=\"width: 100%;\"\r\n",
       "                                    > \r\n",
       "                                    <td>\r\n",
       "                                    <p id=\"round-697b5542-3ced-453b-86c7-df15554a8e1f\"> \r\n",
       "                                    <script>\r\n",
       "                                    var num = 0;\r\n",
       "                                    num = num.toFixed(4);\r\n",
       "                                    var num_string = num + \"%\";\r\n",
       "                                     document.getElementById(\"round-697b5542-3ced-453b-86c7-df15554a8e1f\").innerHTML = num_string;\r\n",
       "                                    </script> </p>\r\n",
       "                                    </td>\r\n",
       "                                </td>\r\n",
       "                            \r\n",
       "                                \r\n",
       "                                <td style=\"transform: rotate(0deg);\r\n",
       "                   text-align: center;\">\r\n",
       "                                 ↑\r\n",
       "                                </td>\r\n",
       "                            \r\n",
       "                            </tr>\r\n",
       "                        \n",
       "\r\n",
       "                            <tr>\r\n",
       "                                <td>$\\left|010\\right\\rangle$</td>\r\n",
       "                                <td>$-0.0000  -0.0000 i$</td>\r\n",
       "                                \r\n",
       "                                <td>\r\n",
       "                                    <progress\r\n",
       "                                        max=\"100\"\r\n",
       "                                        value=\"3.0385816786431365E-62\"\r\n",
       "                                        style=\"width: 100%;\"\r\n",
       "                                    > \r\n",
       "                                    <td>\r\n",
       "                                    <p id=\"round-b00943b3-4ec9-4f8d-99b1-ee2ccbcfd378\"> \r\n",
       "                                    <script>\r\n",
       "                                    var num = 3.0385816786431365E-62;\r\n",
       "                                    num = num.toFixed(4);\r\n",
       "                                    var num_string = num + \"%\";\r\n",
       "                                     document.getElementById(\"round-b00943b3-4ec9-4f8d-99b1-ee2ccbcfd378\").innerHTML = num_string;\r\n",
       "                                    </script> </p>\r\n",
       "                                    </td>\r\n",
       "                                </td>\r\n",
       "                            \r\n",
       "                                \r\n",
       "                                <td style=\"transform: rotate(-135deg);\r\n",
       "                   text-align: center;\">\r\n",
       "                                 ↑\r\n",
       "                                </td>\r\n",
       "                            \r\n",
       "                            </tr>\r\n",
       "                        \n",
       "\r\n",
       "                            <tr>\r\n",
       "                                <td>$\\left|011\\right\\rangle$</td>\r\n",
       "                                <td>$0.0000 + 0.0000 i$</td>\r\n",
       "                                \r\n",
       "                                <td>\r\n",
       "                                    <progress\r\n",
       "                                        max=\"100\"\r\n",
       "                                        value=\"0\"\r\n",
       "                                        style=\"width: 100%;\"\r\n",
       "                                    > \r\n",
       "                                    <td>\r\n",
       "                                    <p id=\"round-45903eb8-044d-4dc3-a724-5180ea04a198\"> \r\n",
       "                                    <script>\r\n",
       "                                    var num = 0;\r\n",
       "                                    num = num.toFixed(4);\r\n",
       "                                    var num_string = num + \"%\";\r\n",
       "                                     document.getElementById(\"round-45903eb8-044d-4dc3-a724-5180ea04a198\").innerHTML = num_string;\r\n",
       "                                    </script> </p>\r\n",
       "                                    </td>\r\n",
       "                                </td>\r\n",
       "                            \r\n",
       "                                \r\n",
       "                                <td style=\"transform: rotate(0deg);\r\n",
       "                   text-align: center;\">\r\n",
       "                                 ↑\r\n",
       "                                </td>\r\n",
       "                            \r\n",
       "                            </tr>\r\n",
       "                        \n",
       "\r\n",
       "                            <tr>\r\n",
       "                                <td>$\\left|100\\right\\rangle$</td>\r\n",
       "                                <td>$-0.0000 + 0.0000 i$</td>\r\n",
       "                                \r\n",
       "                                <td>\r\n",
       "                                    <progress\r\n",
       "                                        max=\"100\"\r\n",
       "                                        value=\"1.5192908393215678E-62\"\r\n",
       "                                        style=\"width: 100%;\"\r\n",
       "                                    > \r\n",
       "                                    <td>\r\n",
       "                                    <p id=\"round-e325f4d8-a6a0-4f98-8c47-544e70ed9a9f\"> \r\n",
       "                                    <script>\r\n",
       "                                    var num = 1.5192908393215678E-62;\r\n",
       "                                    num = num.toFixed(4);\r\n",
       "                                    var num_string = num + \"%\";\r\n",
       "                                     document.getElementById(\"round-e325f4d8-a6a0-4f98-8c47-544e70ed9a9f\").innerHTML = num_string;\r\n",
       "                                    </script> </p>\r\n",
       "                                    </td>\r\n",
       "                                </td>\r\n",
       "                            \r\n",
       "                                \r\n",
       "                                <td style=\"transform: rotate(180deg);\r\n",
       "                   text-align: center;\">\r\n",
       "                                 ↑\r\n",
       "                                </td>\r\n",
       "                            \r\n",
       "                            </tr>\r\n",
       "                        \n",
       "\r\n",
       "                            <tr>\r\n",
       "                                <td>$\\left|101\\right\\rangle$</td>\r\n",
       "                                <td>$0.0000 + 0.0000 i$</td>\r\n",
       "                                \r\n",
       "                                <td>\r\n",
       "                                    <progress\r\n",
       "                                        max=\"100\"\r\n",
       "                                        value=\"0\"\r\n",
       "                                        style=\"width: 100%;\"\r\n",
       "                                    > \r\n",
       "                                    <td>\r\n",
       "                                    <p id=\"round-18164ba5-019a-4a0a-909b-72ce4884ddc5\"> \r\n",
       "                                    <script>\r\n",
       "                                    var num = 0;\r\n",
       "                                    num = num.toFixed(4);\r\n",
       "                                    var num_string = num + \"%\";\r\n",
       "                                     document.getElementById(\"round-18164ba5-019a-4a0a-909b-72ce4884ddc5\").innerHTML = num_string;\r\n",
       "                                    </script> </p>\r\n",
       "                                    </td>\r\n",
       "                                </td>\r\n",
       "                            \r\n",
       "                                \r\n",
       "                                <td style=\"transform: rotate(0deg);\r\n",
       "                   text-align: center;\">\r\n",
       "                                 ↑\r\n",
       "                                </td>\r\n",
       "                            \r\n",
       "                            </tr>\r\n",
       "                        \n",
       "\r\n",
       "                            <tr>\r\n",
       "                                <td>$\\left|110\\right\\rangle$</td>\r\n",
       "                                <td>$-0.0000 + 0.0000 i$</td>\r\n",
       "                                \r\n",
       "                                <td>\r\n",
       "                                    <progress\r\n",
       "                                        max=\"100\"\r\n",
       "                                        value=\"3.0385816786431365E-62\"\r\n",
       "                                        style=\"width: 100%;\"\r\n",
       "                                    > \r\n",
       "                                    <td>\r\n",
       "                                    <p id=\"round-334eeb5e-aa95-4af2-a11b-8d5038a9142c\"> \r\n",
       "                                    <script>\r\n",
       "                                    var num = 3.0385816786431365E-62;\r\n",
       "                                    num = num.toFixed(4);\r\n",
       "                                    var num_string = num + \"%\";\r\n",
       "                                     document.getElementById(\"round-334eeb5e-aa95-4af2-a11b-8d5038a9142c\").innerHTML = num_string;\r\n",
       "                                    </script> </p>\r\n",
       "                                    </td>\r\n",
       "                                </td>\r\n",
       "                            \r\n",
       "                                \r\n",
       "                                <td style=\"transform: rotate(135deg);\r\n",
       "                   text-align: center;\">\r\n",
       "                                 ↑\r\n",
       "                                </td>\r\n",
       "                            \r\n",
       "                            </tr>\r\n",
       "                        \n",
       "\r\n",
       "                            <tr>\r\n",
       "                                <td>$\\left|111\\right\\rangle$</td>\r\n",
       "                                <td>$0.0000 + 0.0000 i$</td>\r\n",
       "                                \r\n",
       "                                <td>\r\n",
       "                                    <progress\r\n",
       "                                        max=\"100\"\r\n",
       "                                        value=\"0\"\r\n",
       "                                        style=\"width: 100%;\"\r\n",
       "                                    > \r\n",
       "                                    <td>\r\n",
       "                                    <p id=\"round-96f38e0a-1438-4c9a-9a9d-1e5da1d5c5dc\"> \r\n",
       "                                    <script>\r\n",
       "                                    var num = 0;\r\n",
       "                                    num = num.toFixed(4);\r\n",
       "                                    var num_string = num + \"%\";\r\n",
       "                                     document.getElementById(\"round-96f38e0a-1438-4c9a-9a9d-1e5da1d5c5dc\").innerHTML = num_string;\r\n",
       "                                    </script> </p>\r\n",
       "                                    </td>\r\n",
       "                                </td>\r\n",
       "                            \r\n",
       "                                \r\n",
       "                                <td style=\"transform: rotate(0deg);\r\n",
       "                   text-align: center;\">\r\n",
       "                                 ↑\r\n",
       "                                </td>\r\n",
       "                            \r\n",
       "                            </tr>\r\n",
       "                        \r\n",
       "                        </tbody>\r\n",
       "                    </table>"
      ],
      "text/plain": [
       "|000⟩\t1.0000000000000004 + 0𝑖\n",
       "|001⟩\t0 + 0𝑖\n",
       "|010⟩\t-1.232595164407831E-32 + -1.232595164407831E-32𝑖\n",
       "|011⟩\t0 + 0𝑖\n",
       "|100⟩\t-1.232595164407831E-32 + 0𝑖\n",
       "|101⟩\t0 + 0𝑖\n",
       "|110⟩\t-1.232595164407831E-32 + 1.232595164407831E-32𝑖\n",
       "|111⟩\t0 + 0𝑖"
      ],
      "application/x-qsharp-data": "{\"diagnostic_kind\":\"state-vector\",\"div_id\":\"dump-machine-div-1a590973-45f2-4fd1-a2a6-22e6e983fc4d\",\"qubit_ids\":[0,1,2],\"n_qubits\":3,\"amplitudes\":[{\"Real\":1.0000000000000004,\"Imaginary\":0.0,\"Magnitude\":1.0000000000000004,\"Phase\":0.0},{\"Real\":-1.232595164407831E-32,\"Imaginary\":0.0,\"Magnitude\":1.232595164407831E-32,\"Phase\":3.141592653589793},{\"Real\":-1.232595164407831E-32,\"Imaginary\":-1.232595164407831E-32,\"Magnitude\":1.7431527984210495E-32,\"Phase\":-2.356194490192345},{\"Real\":-1.232595164407831E-32,\"Imaginary\":1.232595164407831E-32,\"Magnitude\":1.7431527984210495E-32,\"Phase\":2.356194490192345},{\"Real\":0.0,\"Imaginary\":0.0,\"Magnitude\":0.0,\"Phase\":0.0},{\"Real\":0.0,\"Imaginary\":0.0,\"Magnitude\":0.0,\"Phase\":0.0},{\"Real\":0.0,\"Imaginary\":0.0,\"Magnitude\":0.0,\"Phase\":0.0},{\"Real\":0.0,\"Imaginary\":0.0,\"Magnitude\":0.0,\"Phase\":0.0}]}"
     },
     "metadata": {}
    },
    {
     "output_type": "execute_result",
     "data": {
      "text/plain": [
       "()"
      ],
      "application/x-qsharp-data": "{\"@type\":\"tuple\"}"
     },
     "metadata": {},
     "execution_count": 20
    }
   ],
   "metadata": {}
  },
  {
   "cell_type": "code",
   "execution_count": 12,
   "source": [
    "%config dump.basisStateLabelingConvention=\"BitString\""
   ],
   "outputs": [
    {
     "output_type": "execute_result",
     "data": {
      "text/plain": [
       "\"BitString\""
      ],
      "application/x-qsharp-data": "\"\\\"BitString\\\"\""
     },
     "metadata": {},
     "execution_count": 12
    }
   ],
   "metadata": {}
  }
 ],
 "metadata": {
  "kernelspec": {
   "display_name": "Q#",
   "language": "qsharp",
   "name": "python397jvsc74a57bd0450d8a597751a3a2ed69245931367e424bbdfdfb88983d116688b7f7de59d0d2"
  },
  "language_info": {
   "file_extension": ".qs",
   "mimetype": "text/x-qsharp",
   "name": "qsharp",
   "version": "0.14"
  }
 },
 "nbformat": 4,
 "nbformat_minor": 5
}