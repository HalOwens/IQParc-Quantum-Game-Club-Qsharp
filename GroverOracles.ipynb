{
 "cells": [
  {
   "cell_type": "markdown",
   "metadata": {},
   "source": [
    "## Run these first"
   ]
  },
  {
   "cell_type": "code",
   "execution_count": null,
   "metadata": {},
   "outputs": [],
   "source": [
    "open Microsoft.Quantum.Arrays;\n",
    "open Microsoft.Quantum.Diagnostics;\n",
    "open Microsoft.Quantum.Measurement;\n",
    "open Microsoft.Quantum.Canon;"
   ]
  },
  {
   "cell_type": "code",
   "execution_count": null,
   "metadata": {},
   "outputs": [],
   "source": [
    "%config dump.basisStateLabelingConvention=\"Bitstring\"\n",
    "%config dump.phaseDisplayStyle=\"None\"\n",
    "%config dump.measurementDisplayStyle=\"None\""
   ]
  },
  {
   "cell_type": "markdown",
   "metadata": {},
   "source": [
    "## Task 1\n",
    "\n",
    "Given 2 qubits (q1 and q2) calculate the XOR of q1 and q2 and store the result in q2."
   ]
  },
  {
   "cell_type": "code",
   "execution_count": null,
   "metadata": {},
   "outputs": [],
   "source": [
    "operation XOR(q1 : Qubit, q2 : Qubit) : Unit {\n",
    "    // Your code here\n",
    "}\n",
    "\n",
    "operation XORTest() : Unit{\n",
    "    use q1 = Qubit();\n",
    "    use q2 = Qubit();\n",
    "\n",
    "    // Input 0, 0 \n",
    "    XOR(q1, q2);\n",
    "    mutable r1 = M(q2);\n",
    "    Message($\"0 xor 0 = {r1}\");\n",
    "    Reset(q1); // Return q1 and q2 to the |0> state\n",
    "    Reset(q2); \n",
    "\n",
    "    // Input 1, 0\n",
    "    X(q1);\n",
    "    XOR(q1, q2);\n",
    "    set r1 = M(q2);\n",
    "    Message($\"1 xor 0 = {r1}\");\n",
    "    Reset(q1); // Return q1 and q2 to the |0> state\n",
    "    Reset(q2); \n",
    "\n",
    "    // Input 0, 1\n",
    "    X(q2);\n",
    "    XOR(q1, q2);\n",
    "    set r1 = M(q2);\n",
    "    Message($\"0 xor 1 = {r1}\");\n",
    "    Reset(q1); // Return q1 and q2 to the |0> state\n",
    "    Reset(q2); \n",
    "\n",
    "    // Input 1, 1\n",
    "    X(q1);\n",
    "    X(q2);\n",
    "    XOR(q1, q2);\n",
    "    set r1 = M(q2);\n",
    "    Message($\"1 xor 1 = {r1}\");\n",
    "    Reset(q1); // Return q1 and q2 to the |0> state\n",
    "    Reset(q2); \n",
    "\n",
    "}"
   ]
  },
  {
   "cell_type": "code",
   "execution_count": null,
   "metadata": {},
   "outputs": [],
   "source": [
    "%simulate XORTest"
   ]
  },
  {
   "cell_type": "markdown",
   "metadata": {},
   "source": [
    "## Task 2\n",
    "Implement a phase oracle which marks the state $|11\\rangle$. In other words create an operation $U$ which affects the 2 qubit basis states like this:\n",
    "\n",
    "$U|00\\rangle = |00\\rangle$\n",
    "\n",
    "$U|01\\rangle = |01\\rangle$\n",
    "\n",
    "$U|10\\rangle = |10\\rangle$\n",
    "\n",
    "$U|11\\rangle = -|11\\rangle$\n",
    "\n",
    "Hint: You will need a controlled Z gate"
   ]
  },
  {
   "cell_type": "code",
   "execution_count": null,
   "metadata": {},
   "outputs": [],
   "source": [
    "operation SimplePhase(qs : Qubit[]) : Unit {\n",
    "    // Your code here\n",
    "}\n",
    "\n",
    "operation TestSimplePhase() : Unit {\n",
    "    use qs = Qubit[2];\n",
    "    //Create uniform superposition state\n",
    "    H(qs[0]);\n",
    "    H(qs[1]);\n",
    "\n",
    "    // Apply U\n",
    "    SimplePhase(qs);\n",
    "\n",
    "    // Print out the current state vector\n",
    "    DumpMachine();     \n",
    "\n",
    "    // Q# requires all qubits be measured or reset at the end of the program \n",
    "    Reset(qs[0]);\n",
    "    Reset(qs[1]);\n",
    "}"
   ]
  },
  {
   "cell_type": "code",
   "execution_count": null,
   "metadata": {},
   "outputs": [],
   "source": [
    "%simulate TestSimplePhase"
   ]
  },
  {
   "cell_type": "markdown",
   "metadata": {},
   "source": [
    "## Task 3\n",
    "Implement a phase oracle which marks the state $|10\\rangle$. In other words create an operation $U$ which affects the 2 qubit basis states like this:\n",
    "\n",
    "$U|00\\rangle = |00\\rangle$\n",
    "\n",
    "$U|01\\rangle = |01\\rangle$\n",
    "\n",
    "$U|10\\rangle = -|10\\rangle$\n",
    "\n",
    "$U|11\\rangle = |11\\rangle$\n",
    "\n",
    "Hint: You need to swap the $|11\\rangle$ and $|10\\rangle$ amplitudes, apply a $-1$ phase to $|11\\rangle$ like in Task 2, and then un-swap the amplitude."
   ]
  },
  {
   "cell_type": "code",
   "execution_count": null,
   "metadata": {},
   "outputs": [],
   "source": [
    "operation LessSimplePhase(qs : Qubit[]) : Unit {\n",
    "    // Your code here\n",
    "}\n",
    "\n",
    "operation TestLessSimplePhase() : Unit {\n",
    "    use qs = Qubit[2];\n",
    "    //Create uniform superposition state\n",
    "    H(qs[0]);\n",
    "    H(qs[1]);\n",
    "\n",
    "    // Apply U\n",
    "    LessSimplePhase(qs);\n",
    "\n",
    "    // Print out the current state vector\n",
    "    DumpMachine();     \n",
    "\n",
    "    // Q# requires all qubits be measured or reset at the end of the program \n",
    "    Reset(qs[0]);\n",
    "    Reset(qs[1]);\n",
    "}"
   ]
  },
  {
   "cell_type": "code",
   "execution_count": null,
   "metadata": {},
   "outputs": [],
   "source": [
    "%simulate TestLessSimplePhase"
   ]
  },
  {
   "cell_type": "markdown",
   "metadata": {},
   "source": [
    "## Task 4\n",
    "\n",
    "Create an oracle which marks all states where the 2nd qubit is in the $|1\\rangle$ state. In other words create an operation $U$ which implements the following transformation.\n",
    "\n",
    "$U|x_0x_2 ... x_n\\rangle = |x_0x_2 ... x_n\\rangle$ if $x_1 == 0$\n",
    "\n",
    "$U|x_0x_2 ... x_n\\rangle = -|x_0x_2 ... x_n\\rangle$ if $x_1 == 1$\n",
    "\n",
    "$x_n$ refers to the nth bit in the state.\n",
    "\n",
    "Hint: The Z gate applies a -1 phase to the $|1\\rangle$ state of a single qubit."
   ]
  },
  {
   "cell_type": "code",
   "execution_count": null,
   "metadata": {},
   "outputs": [],
   "source": [
    "operation Task4Oracle(qs : Qubit[]) : Unit {\n",
    "    // Your code here\n",
    "}\n",
    "\n",
    "operation TestTask4Oracle() : Unit {\n",
    "    use qs = Qubit[2];\n",
    "    //Create uniform superposition state\n",
    "    H(qs[0]);\n",
    "    H(qs[1]);\n",
    "\n",
    "    // Apply U\n",
    "    Task4Oracle(qs);\n",
    "\n",
    "    // Print out the current state vector\n",
    "    DumpMachine();     \n",
    "\n",
    "    // Q# requires all qubits be measured or reset at the end of the program \n",
    "    Reset(qs[0]);\n",
    "    Reset(qs[1]);\n",
    "}"
   ]
  },
  {
   "cell_type": "code",
   "execution_count": null,
   "metadata": {},
   "outputs": [],
   "source": [
    "%simulate TestTask4Oraclek"
   ]
  },
  {
   "cell_type": "markdown",
   "metadata": {},
   "source": [
    "## Task 5\n",
    "\n",
    "Create an oracle which marks all 3-qubit states where the first and last qubit are not equal. In other words create an operation $U$ which implements the following transformation on the 3-qubit basis states.\n",
    "\n",
    "$U|x_0x_1x_2\\rangle = |x_0x_1x_2\\rangle $ if $ x_0 == x_2 $\n",
    "\n",
    "$U|x_0x_1x_2\\rangle = -|x_0x_1x_2\\rangle $ if $ x_0 != x_2 $\n",
    "\n",
    "\n",
    "Hint: If we calculate the XOR between $x_0$ and $x_2$ the output will be $1$ if they are not equal. So calculate this value, apply a $-1$ phase to the $|-1\\rangle$ state of the qubit containing the ouput, then reverse the XOR calculation.\n",
    "\n",
    "In order to do this you will need to apply an operation $U$ (the xor), do something, and then apply $U^{\\dag}$ (\"$U$ dagger\", the inverse of $U$). A quick way of doing this is the [within-apply](https://learn.microsoft.com/en-us/azure/quantum/user-guide/language/statements/conjugations]) statement."
   ]
  },
  {
   "cell_type": "code",
   "execution_count": null,
   "metadata": {},
   "outputs": [],
   "source": [
    "operation Task5Oracle(qs : Qubit[]) : Unit {\n",
    "    // Your code here\n",
    "}\n",
    "\n",
    "operation TestTask5Oracle() : Unit {\n",
    "    use qs = Qubit[3];\n",
    "    //Create uniform superposition state\n",
    "    ApplyToEach(H, qs);\n",
    "\n",
    "    // Apply U\n",
    "    Task5Oracle(qs);\n",
    "\n",
    "    // Print out the current state vector\n",
    "    DumpMachine();     \n",
    "\n",
    "    // Q# requires all qubits be measured or reset at the end of the program \n",
    "    ResetAll(qs);\n",
    "}"
   ]
  },
  {
   "cell_type": "code",
   "execution_count": null,
   "metadata": {},
   "outputs": [],
   "source": [
    "%simulate TestTask5Oracle"
   ]
  },
  {
   "cell_type": "markdown",
   "metadata": {},
   "source": [
    "## Task 6\n",
    "\n",
    "Create an oracle which marks all qubit states which are alternating bitstrings. In other words mark the state $|x_0x_1 ... x_n\\rangle$ where any $x_i$ and $x_{i+1}$ pair is not equal. There are two states matching this description $|01010 ... \\rangle$ and $|10101 ... \\rangle$.\n",
    "\n",
    "Hint: First swap the amplitude of the $|01010 ... \\rangle$ state with the $|11111 ... 1\\rangle$ state, use a controlled Z gate to swap the phase, and then swap the amplitude back. Then repeat this for the $|10101 ... \\rangle$ state.\n",
    "\n",
    "The within-apply block will be helpful here. You will also want to use a [for loop](https://learn.microsoft.com/en-us/azure/quantum/user-guide/language/statements/iterations). You can get the length of an array in Q# using Length().\n",
    "\n",
    "Also at some point you will want to perform a controlled Z gate to all of the qubits in qs. In order to do this you can use `Controlled Z(Most(qs), Tail(qs))`"
   ]
  },
  {
   "cell_type": "code",
   "execution_count": null,
   "metadata": {},
   "outputs": [],
   "source": [
    "operation Task6Oracle(qs : Qubit[]) : Unit {\n",
    "    // Your code here\n",
    "}\n",
    "\n",
    "operation TestTask6Oracle() : Unit {\n",
    "    use qs = Qubit[4];\n",
    "    //Create uniform superposition state\n",
    "    ApplyToEach(H, qs);\n",
    "\n",
    "    // Apply U\n",
    "    Task6Oracle(qs);\n",
    "\n",
    "    // Print out the current state vector\n",
    "    DumpMachine();     \n",
    "\n",
    "    // Q# requires all qubits be measured or reset at the end of the program \n",
    "    ResetAll(qs);\n",
    "}"
   ]
  },
  {
   "cell_type": "code",
   "execution_count": null,
   "metadata": {},
   "outputs": [],
   "source": [
    "%simulate TestTask6Oracle"
   ]
  },
  {
   "cell_type": "markdown",
   "metadata": {},
   "source": [
    "## Task 7\n",
    "The most ovbious way of implementing the Task 6 oracle requires you to have prior knowledge of the states you want to apply a phase to. If you were really using Grover's algorithm there would be no point since you already know the states you are searching for. Instead of using the approach from Task 6 implement the same oracle using XOR operations which calculate the state which has alternating bits. \n",
    "\n",
    "Hint: Task 5 implemented a similar problem as this. You now need to generalize it to a qubit array of any length."
   ]
  },
  {
   "cell_type": "code",
   "execution_count": null,
   "metadata": {},
   "outputs": [],
   "source": [
    "operation Task7Oracle(qs : Qubit[]) : Unit {\n",
    "    // Your code here\n",
    "}\n",
    "\n",
    "operation TestTask7Oracle() : Unit {\n",
    "    use qs = Qubit[4];\n",
    "    //Create uniform superposition state\n",
    "    ApplyToEach(H, qs);\n",
    "\n",
    "    // Apply U\n",
    "    Task7Oracle(qs);\n",
    "\n",
    "    // Print out the current state vector\n",
    "    DumpMachine();     \n",
    "\n",
    "    // Q# requires all qubits be measured or reset at the end of the program \n",
    "    ResetAll(qs);\n",
    "}"
   ]
  },
  {
   "cell_type": "code",
   "execution_count": null,
   "metadata": {},
   "outputs": [],
   "source": [
    "%simulate TestTask7Oracle"
   ]
  }
 ],
 "metadata": {
  "kernelspec": {
   "display_name": "Q#",
   "language": "qsharp",
   "name": "iqsharp"
  },
  "language_info": {
   "file_extension": ".qs",
   "mimetype": "text/x-qsharp",
   "name": "qsharp",
   "version": "0.14"
  },
  "orig_nbformat": 4
 },
 "nbformat": 4,
 "nbformat_minor": 2
}
